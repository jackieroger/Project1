{
 "cells": [
  {
   "cell_type": "markdown",
   "metadata": {},
   "source": [
    "# Part 1"
   ]
  },
  {
   "cell_type": "markdown",
   "metadata": {},
   "source": [
    "Note to grader: For my responses, I will be using the abbreviations SW for Smith-Waterman and NW for Needleman-Wunsch. For the alignment matrices, the match/mismatch matrix is denoted as m, seq1 gap matrix as ix, and the seq2 gap matrix as iy.\n",
    "\n",
    "Question 1:\n",
    "\n",
    "a) For initialization, both SW and NW require a match/mismatch score matrix, gap opening penalty, gap extension penalty, alignment matrices (m, ix, iy), and pointer matrices for the traceback in order to traverse through the alignment matrices to find the optimal alignment. They also require two sequences that the user wishes to align. For execution, they require the matrices to be initialized and a dynamic programming approach for incrementally filling them in. Then, a traceback start point is used in conjunction with the matrices to traceback through the matrices to find the alignment. For termination, they require an end condition for the traceback.\n",
    "\n",
    "b) For both, when the align() method is called, the alignment is returned. For SW, this is a local alignment of the two sequences. For NW, this is a global alignment of the two sequences. Gaps in the alignment are represented using dashes (“-”). In my implementation, the alignment score is also accessible as a class attribute (or using the score() method).\n",
    "\n",
    "c) For both, there are two main parts to the algorithm: filling out the matrices and doing the traceback. For this question, let m = length(seq1) and n = length(seq2). The runtime complexity of the dynamic programming approach to fill out the alignment matrices is O(m*n) because of the nested for loops. The runtime complexity of the traceback is O(n) because you just go through the alignment once. The overall runtime complexity of the algorithms is the highest of the runtime complexities of the parts. So for both SW and NW, the runtime complexity is O(m*n).\n",
    "\n",
    "Question 2:\n",
    "\n",
    "Both require alignment parameters (score matrix & gap penalties) for initialization. Both require sequences to be inputted (as strings in my implementation). Both have three alignment matrices, but those matrices are initialized differently between the two algorithms. For SW, the top row and the left column of m is initialized to 0. The top row and left column of ix and iy are initialized to -inf. For NW, the (0,0) cell of m is initialized to 0. The left column of the ix initialized to: gap opening penalty + (gap extension penalty * row number). The top row of iy is initialized to: gap opening penalty + (gap extension penalty * column number). For both, all other cells in the top row and left column are initialized to -inf. For both, I had 3 pointer matrices (one for each alignment matrix).\n",
    "\n",
    "For execution, the recurrence relations to fill out the alignment matrices are virtually identical. The only difference is that for SW, when evaluating each cell in m, an additional option is added: 0. Since the recurrence relation finds the max of the score options for that cell and 0 is now also an option, this ensures that there are no negative values in m for SW. For both NW and SW, as the matrices are filled out using dynamic programming, the origin of each score is stored in pointer matrices to enable traceback.\n",
    "\n",
    "For SW, the traceback starts at the maximum match/mismatch matrix value. For NW, the traceback starts at the bottom right cell of the matrix with the highest value there. For both, the traceback continues through the alignment score matrices using the pointer matrices as guidance about where to go next from each cell. For termination, the SW traceback ends when the traceback hits a 0 value. For NW, the traceback ends when the traceback hits the top left corner.\n",
    "\n",
    "Question 3:\n",
    "\n",
    "Affine-gap alignment requires 3 alignment matrices, whereas linear-gap alignment only requires 1. For affine-gap alignment, this means that when filling out each cell in each matrix, values from cells in other matrices are used. Additionally, for linear-gap alignment, only 1 pointer matrix is required. For affine-gap alignment, the pointers are a bit more complicated since they refer to both cell locations and matrix types. There are many ways to implement this. For my implementation I had 3 pointer matrices (one for each alignment matrix) that point to the type (m, ix, iy) that the current cell value in the alignment matrix came from. For linear-gap alignment, the traceback walks through a single alignment matrix. For affine-gap alignment, the traceback can walk through all three alignment matrices.\n",
    "\n",
    "Question 4:\n",
    "\n",
    "My API is in my README.md in my github repo.\n",
    "\n",
    "Question 5:\n",
    "\n",
    "I implemented overlap alignment. There is also a unit test for it (both aligning & scoring)."
   ]
  },
  {
   "cell_type": "markdown",
   "metadata": {},
   "source": [
    "# Part 2"
   ]
  },
  {
   "cell_type": "code",
   "execution_count": 2,
   "metadata": {},
   "outputs": [],
   "source": [
    "# Import classes\n",
    "from align import algs"
   ]
  },
  {
   "cell_type": "markdown",
   "metadata": {},
   "source": [
    "### Question 1"
   ]
  },
  {
   "cell_type": "code",
   "execution_count": 3,
   "metadata": {},
   "outputs": [],
   "source": [
    "# Load fasta file names for alignments\n",
    "def load_pairs(pairs_txt_file):\n",
    "    # Read in pairs\n",
    "    with open(pairs_txt_file) as pf:\n",
    "        # Read in each line, remove whitespace, and make list of tuples representing each pair\n",
    "        pairs_files = [tuple(line.strip().split()) for line in pf]\n",
    "    return pairs_files\n",
    "\n",
    "# Load sequences given fasta file names\n",
    "def load_sequences(fasta_file_names):\n",
    "    pa = algs.PairwiseAligner(\"BLOSUM50\", -3, -1)\n",
    "    sequence_pairs = [tuple([pa.load_fasta(f1), pa.load_fasta(f2)]) for (f1, f2) in fasta_file_names]\n",
    "    return sequence_pairs\n",
    "\n",
    "def get_q1_scores(allpairs):\n",
    "    sw = algs.SmithWaterman(\"BLOSUM50\", -11, -3)\n",
    "    sw.load_scoring_matrix()\n",
    "    scores = []\n",
    "    for (s1, s2) in allpairs:\n",
    "        s = sw.score(s1, s2)\n",
    "        scores.append(s)\n",
    "    return scores\n",
    "\n",
    "# Read in names of fasta files for true & false alignments\n",
    "pospairs_files = load_pairs(\"scoring_matrices/Pospairs.txt\")\n",
    "negpairs_files = load_pairs(\"scoring_matrices/Negpairs.txt\")\n",
    "# Read in sequences from those fasta files\n",
    "pospairs = load_sequences(pospairs_files)\n",
    "negpairs = load_sequences(negpairs_files)\n",
    "allpairs = pospairs + negpairs\n",
    "# Get alignment scores\n",
    "q1_alignment_scores = get_q1_scores(allpairs)\n",
    "with open(\"part2_results_data/q1.txt\", \"w\") as q1:\n",
    "    q1.writelines(\"%s\\n\" % score for score in q1_alignment_scores)"
   ]
  },
  {
   "cell_type": "code",
   "execution_count": 7,
   "metadata": {},
   "outputs": [],
   "source": [
    "import matplotlib.pyplot as plt"
   ]
  },
  {
   "cell_type": "code",
   "execution_count": 65,
   "metadata": {},
   "outputs": [
    {
     "data": {
      "image/png": "[encoded data removed]",
      "text/plain": [
       "<Figure size 720x360 with 1 Axes>"
      ]
     },
     "metadata": {
      "needs_background": "light"
     },
     "output_type": "display_data"
    }
   ],
   "source": [
    "plt.rcParams[\"figure.figsize\"] = (10,5)\n",
    "plt.hist(q1_alignment_scores, bins=100)\n",
    "plt.title(\"Distribution of local alignment scores\")\n",
    "plt.xlabel(\"Alignment score\")\n",
    "plt.ylabel(\"Count\")\n",
    "plt.savefig(\"part2_plots/q1.png\")"
   ]
  },
  {
   "cell_type": "markdown",
   "metadata": {},
   "source": [
    "I would describe this distribution as right-skewed with a peak around 40. Most of the scores seem to be between 20-80. There are a few scores at 100-150 and up around 260."
   ]
  },
  {
   "cell_type": "markdown",
   "metadata": {},
   "source": [
    "### Question 2"
   ]
  },
  {
   "cell_type": "code",
   "execution_count": 21,
   "metadata": {},
   "outputs": [
    {
     "data": {
      "text/plain": [
       "45.44"
      ]
     },
     "execution_count": 21,
     "metadata": {},
     "output_type": "execute_result"
    }
   ],
   "source": [
    "# Find average alignment score\n",
    "q2_avg_score = sum(q1_alignment_scores)/len(q1_alignment_scores)\n",
    "q2_avg_score"
   ]
  },
  {
   "cell_type": "code",
   "execution_count": 25,
   "metadata": {},
   "outputs": [],
   "source": [
    "import sklearn\n",
    "from sklearn import metrics"
   ]
  },
  {
   "cell_type": "code",
   "execution_count": 45,
   "metadata": {},
   "outputs": [
    {
     "name": "stdout",
     "output_type": "stream",
     "text": [
      "CONFUSION MATRIX\n",
      "           Predicted\n",
      "           True   False\n",
      "Real  True  22    28\n",
      "      False 6     44\n"
     ]
    }
   ],
   "source": [
    "# Make a list of predictions of whether 2 sequences align or not\n",
    "q2_preds = [s >= q2_avg_score for s in q1_alignment_scores]\n",
    "# Make a list of true values (first 50 are True and last 50 are False)\n",
    "q2_reals = [True]*50 + [False]*50\n",
    "# Make confusion matrix\n",
    "q2_preds_and_reals = list(zip(q2_preds, q2_reals))\n",
    "q2_tp = sum([(p == True and r == True) for (p, r) in q2_preds_and_reals])\n",
    "q2_fp = sum([(p == True and r == False) for (p, r) in q2_preds_and_reals])\n",
    "q2_tn = sum([(p == False and r == False) for (p, r) in q2_preds_and_reals])\n",
    "q2_fn = sum([(p == False and r == True) for (p, r) in q2_preds_and_reals])\n",
    "# Print results\n",
    "print(\"CONFUSION MATRIX\")\n",
    "print(\"           Predicted\")\n",
    "print(\"           True   False\")\n",
    "print(\"Real  True  \" + str(q2_tp) + \"    \" + str(q2_fn))\n",
    "print(\"      False \" + str(q2_fp) + \"     \" + str(q2_tn))"
   ]
  },
  {
   "cell_type": "markdown",
   "metadata": {},
   "source": [
    "The threshold value (average alignment score) is 45.44. The confusion matrix suggests that the algorithm detected false alignments pretty well (44/50), but did not detect true alignments well (22/50). The threshold was set using the mean, which is sensitive to outliers, which the score distribution has. If the threshold was a bit lower, we would probably detect true alignments better, but also would have more false positives."
   ]
  },
  {
   "cell_type": "markdown",
   "metadata": {},
   "source": [
    "### Question 3"
   ]
  },
  {
   "cell_type": "code",
   "execution_count": 66,
   "metadata": {},
   "outputs": [
    {
     "data": {
      "image/png": "[encoded data removed]",
      "text/plain": [
       "<Figure size 504x504 with 1 Axes>"
      ]
     },
     "metadata": {
      "needs_background": "light"
     },
     "output_type": "display_data"
    }
   ],
   "source": [
    "# Make ROC plot\n",
    "q3_fpr, q3_tpr, q3_ts = sklearn.metrics.roc_curve(q2_reals, q1_alignment_scores)\n",
    "plt.rcParams[\"figure.figsize\"] = (7,7)\n",
    "plt.plot(q3_fpr, q3_tpr)\n",
    "plt.plot([0,1], [0,1], linestyle=\"dashed\")\n",
    "plt.title(\"ROC plot for local alignment scores\")\n",
    "plt.xlabel(\"FPR\")\n",
    "plt.ylabel(\"TPR\")\n",
    "plt.savefig(\"part2_plots/q3.png\")"
   ]
  },
  {
   "cell_type": "markdown",
   "metadata": {},
   "source": [
    "### Question 4"
   ]
  },
  {
   "cell_type": "code",
   "execution_count": 67,
   "metadata": {},
   "outputs": [
    {
     "data": {
      "text/plain": [
       "0.76"
      ]
     },
     "execution_count": 67,
     "metadata": {},
     "output_type": "execute_result"
    }
   ],
   "source": [
    "q4_auroc = sklearn.metrics.roc_auc_score(q2_reals, q1_alignment_scores)\n",
    "q4_auroc"
   ]
  },
  {
   "cell_type": "markdown",
   "metadata": {},
   "source": [
    "The auROC is 0.76. This indicates that the algorithm is performing good, not great. It's greater than 0.5 so it's definitely better than random chance, but it's well below 1 so it's not performing perfectly. You can not confidently assess the performance of this algorithm with this value alone. Depending on what you are using this algorithm for, you may care more about detecting any possible alignment (perhaps for maximizing hypothesis generation) or you may care more about only focusing on very likely alignments (perhaps for minimizing computational costs). The auROC is just one summary statistic and doesn't give granular information about algorithm performance. Some examples of other important values are sensitivity, specificity, and accuracy."
   ]
  },
  {
   "cell_type": "markdown",
   "metadata": {},
   "source": [
    "### Question 5"
   ]
  },
  {
   "cell_type": "code",
   "execution_count": 68,
   "metadata": {},
   "outputs": [],
   "source": [
    "# For each gap opening cost\n",
    "for i in range(-20,0):\n",
    "    # For each gap extension cost\n",
    "    for j in range(-5,0):\n",
    "        sw = algs.SmithWaterman(\"BLOSUM62\", i, j)\n",
    "        sw.load_scoring_matrix()\n",
    "        scores = []\n",
    "        for (s1, s2) in allpairs:\n",
    "            s = sw.score(s1, s2)\n",
    "            scores.append(s)\n",
    "        with open(\"part2_results_data/q5_\" + str(i) + \" \" + str(j) + \".txt\", \"w\") as q5_out:\n",
    "            q5_out.writelines(\"%s\\n\" % score for score in scores)\n",
    "        \n"
   ]
  },
  {
   "cell_type": "code",
   "execution_count": null,
   "metadata": {},
   "outputs": [],
   "source": []
  }
 ],
 "metadata": {
  "kernelspec": {
   "display_name": "Python 3",
   "language": "python",
   "name": "python3"
  },
  "language_info": {
   "codemirror_mode": {
    "name": "ipython",
    "version": 3
   },
   "file_extension": ".py",
   "mimetype": "text/x-python",
   "name": "python",
   "nbconvert_exporter": "python",
   "pygments_lexer": "ipython3",
   "version": "3.8.3"
  }
 },
 "nbformat": 4,
 "nbformat_minor": 4
}
