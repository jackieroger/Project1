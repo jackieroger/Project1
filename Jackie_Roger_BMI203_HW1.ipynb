{
 "cells": [
  {
   "cell_type": "markdown",
   "metadata": {},
   "source": [
    "# Part 1"
   ]
  },
  {
   "cell_type": "markdown",
   "metadata": {},
   "source": [
    "Note to grader: For my responses, I will be using the abbreviations SW for Smith-Waterman and NW for Needleman-Wunsch. For the alignment matrices, the match/mismatch matrix is denoted as m, seq1 gap matrix as ix, and the seq2 gap matrix as iy.\n",
    "\n",
    "Question 1:\n",
    "\n",
    "a) For initialization, both SW and NW require a match/mismatch score matrix, gap opening penalty, gap extension penalty, alignment matrices (m, ix, iy), and pointer matrices for the traceback in order to traverse through the alignment matrices to find the optimal alignment. They also require two sequences that the user wishes to align. For execution, they require the matrices to be initialized and a dynamic programming approach for incrementally filling them in. Then, a traceback start point is used in conjunction with the matrices to traceback through the matrices to find the alignment. For termination, they require an end condition for the traceback.\n",
    "\n",
    "b) For both, when the align() method is called, the alignment is returned. For SW, this is a local alignment of the two sequences. For NW, this is a global alignment of the two sequences. Gaps in the alignment are represented using dashes (“-”). In my implementation, the alignment score is also accessible as a class attribute (or using the score() method).\n",
    "\n",
    "c) For both, there are two main parts to the algorithm: filling out the matrices and doing the traceback. For this question, let m = length(seq1) and n = length(seq2). The runtime complexity of the dynamic programming approach to fill out the alignment matrices is O(m*n) because of the nested for loops. The runtime complexity of the traceback is O(n) because you just go through the alignment once. The overall runtime complexity of the algorithms is the highest of the runtime complexities of the parts. So for both SW and NW, the runtime complexity is O(m*n).\n",
    "\n",
    "Question 2:\n",
    "\n",
    "Both require alignment parameters (score matrix & gap penalties) for initialization. Both require sequences to be inputted (as strings in my implementation). Both have three alignment matrices, but those matrices are initialized differently between the two algorithms. For SW, the top row and the left column of m is initialized to 0. The top row and left column of ix and iy are initialized to -inf. For NW, the (0,0) cell of m is initialized to 0. The left column of the ix initialized to: gap opening penalty + (gap extension penalty * row number). The top row of iy is initialized to: gap opening penalty + (gap extension penalty * column number). For both, all other cells in the top row and left column are initialized to -inf. For both, I had 3 pointer matrices (one for each alignment matrix).\n",
    "\n",
    "For execution, the recurrence relations to fill out the alignment matrices are virtually identical. The only difference is that for SW, when evaluating each cell in m, an additional option is added: 0. Since the recurrence relation finds the max of the score options for that cell and 0 is now also an option, this ensures that there are no negative values in m for SW. For both NW and SW, as the matrices are filled out using dynamic programming, the origin of each score is stored in pointer matrices to enable traceback.\n",
    "\n",
    "For SW, the traceback starts at the maximum match/mismatch matrix value. For NW, the traceback starts at the bottom right cell of the matrix with the highest value there. For both, the traceback continues through the alignment score matrices using the pointer matrices as guidance about where to go next from each cell. For termination, the SW traceback ends when the traceback hits a 0 value. For NW, the traceback ends when the traceback hits the top left corner.\n",
    "\n",
    "Question 3:\n",
    "\n",
    "Affine-gap alignment requires 3 alignment matrices, whereas linear-gap alignment only requires 1. For affine-gap alignment, this means that when filling out each cell in each matrix, values from cells in other matrices are used. Additionally, for linear-gap alignment, only 1 pointer matrix is required. For affine-gap alignment, the pointers are a bit more complicated since they refer to both cell locations and matrix types. There are many ways to implement this. For my implementation I had 3 pointer matrices (one for each alignment matrix) that point to the type (m, ix, iy) that the current cell value in the alignment matrix came from. For linear-gap alignment, the traceback walks through a single alignment matrix. For affine-gap alignment, the traceback can walk through all three alignment matrices.\n",
    "\n",
    "Question 4:\n",
    "\n",
    "My API is in my README.md in my github repo.\n",
    "\n",
    "Question 5:\n",
    "\n",
    "I implemented overlap alignment. There is also a unit test for it (both aligning & scoring)."
   ]
  },
  {
   "cell_type": "markdown",
   "metadata": {},
   "source": [
    "# Part 2"
   ]
  },
  {
   "cell_type": "code",
   "execution_count": 1,
   "metadata": {},
   "outputs": [],
   "source": [
    "# Import classes\n",
    "from align import algs"
   ]
  },
  {
   "cell_type": "markdown",
   "metadata": {},
   "source": [
    "### Question 1"
   ]
  },
  {
   "cell_type": "code",
   "execution_count": null,
   "metadata": {},
   "outputs": [],
   "source": []
  }
 ],
 "metadata": {
  "kernelspec": {
   "display_name": "Python 3",
   "language": "python",
   "name": "python3"
  },
  "language_info": {
   "codemirror_mode": {
    "name": "ipython",
    "version": 3
   },
   "file_extension": ".py",
   "mimetype": "text/x-python",
   "name": "python",
   "nbconvert_exporter": "python",
   "pygments_lexer": "ipython3",
   "version": "3.8.3"
  }
 },
 "nbformat": 4,
 "nbformat_minor": 4
}
